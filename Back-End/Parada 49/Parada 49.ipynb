{
 "cells": [
  {
   "cell_type": "code",
   "execution_count": 11,
   "metadata": {},
   "outputs": [
    {
     "name": "stdout",
     "output_type": "stream",
     "text": [
      "pdf salvo\n"
     ]
    },
    {
     "name": "stderr",
     "output_type": "stream",
     "text": [
      "C:\\Users\\bukik\\AppData\\Local\\Temp\\ipykernel_17404\\819641584.py:9: UserWarning: Substituting font arial by core font helvetica\n",
      "  pdf.set_font('Arial', '', 16)\n",
      "C:\\Users\\bukik\\AppData\\Local\\Temp\\ipykernel_17404\\819641584.py:11: DeprecationWarning: The parameter \"ln\" is deprecated. Instead of ln=True use new_x=XPos.LMARGIN, new_y=YPos.NEXT.\n",
      "  pdf.cell(200, 10, align ='C', txt ='Dinossauros', ln=True)\n"
     ]
    }
   ],
   "source": [
    "from fpdf import FPDF\n",
    "\n",
    "# p = retrato, l = paisagem\n",
    "# mm, cm, in\n",
    "# a3, a4, a5, letter e legal\n",
    "\n",
    "pdf = FPDF('P', 'mm', 'A4')\n",
    "pdf.add_page()\n",
    "\n",
    "# b, i, u\n",
    "\n",
    "pdf.set_font('Arial', '', 16)\n",
    "pdf.cell(200, 10, align ='C', txt ='Dinossauros', ln=True)\n",
    "\n",
    "# align = r: direita , l: esquerda, c: center, j: justificado\n",
    "\n",
    "text = 'Dinossauros constituem um grupo de diversos animais, membros do clado Dinosauria.[3] Acredita-se que os dinossauros apareceram há, pelo menos, 233 milhões de anos,[4] e que, por mais de 167 milhões de anos, foram o grupo animal dominante na Terra, num período geológico de tempo que vai desde o período Triássico até o final do período Cretáceo, há cerca de 66 milhões de anos,[5] quando um evento catastrófico ocasionou a extinção em massa de quase todos os dinossauros, com exceção de algumas espécies emplumadas, as aves'\n",
    "pdf.multi_cell(w=0,h=20, align='J', txt=text)\n",
    "\n",
    "pdf.image(name='dino.png', x=75, y=100, w=60)\n",
    "\n",
    "pdf.output('pdf1.pdf')\n",
    "print(\"pdf salvo\")"
   ]
  },
  {
   "cell_type": "code",
   "execution_count": null,
   "metadata": {},
   "outputs": [],
   "source": [
    "import pandas as pd\n",
    "import matplotlib.pyplot as plt\n",
    "from fpdf import FPDF\n",
    "\n",
    "#tratamento de dados\n",
    "planilha = pd.read_excel('gastos.xlsx')\n",
    "produto = planilha.Produto\n",
    "valor = planilha.Valor\n",
    "\n",
    "#gerar grafico\n",
    "plt.pie(valor, labels=produto, autopct='%1.2f%%')\n",
    "plt.savefig('grafico_gastos.png')\n",
    "\n",
    "#gerar pdf\n",
    "pdf = FPDF('P', 'mm', 'A4')\n",
    "pdf.add_page()\n",
    "pdf.set_font('Time', '', 16)\n",
    "pdf.cell(w=0, h=0, txt ='Gráfico de Gastos', ln=True)\n",
    "\n",
    "#adiciona linha separadora\n",
    "pdf.line(10, 15, 200, 15)\n",
    "\n",
    "pdf.image('grafico_gastos.png', x=0, y=20, w=200)\n",
    "pdf.output('gastos.pdf')\n",
    "print('pdf salvo')"
   ]
  }
 ],
 "metadata": {
  "kernelspec": {
   "display_name": "Python 3",
   "language": "python",
   "name": "python3"
  },
  "language_info": {
   "codemirror_mode": {
    "name": "ipython",
    "version": 3
   },
   "file_extension": ".py",
   "mimetype": "text/x-python",
   "name": "python",
   "nbconvert_exporter": "python",
   "pygments_lexer": "ipython3",
   "version": "3.11.5"
  },
  "orig_nbformat": 4
 },
 "nbformat": 4,
 "nbformat_minor": 2
}
