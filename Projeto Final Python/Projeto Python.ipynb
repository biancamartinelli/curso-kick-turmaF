{
 "cells": [
  {
   "cell_type": "code",
   "execution_count": null,
   "metadata": {},
   "outputs": [],
   "source": [
    "pip install pandas matplotlib reportlab\n"
   ]
  },
  {
   "cell_type": "code",
   "execution_count": null,
   "metadata": {},
   "outputs": [],
   "source": [
    "import pandas as pd\n",
    "import matplotlib.pyplot as plt\n",
    "from reportlab.lib.pagesizes import letter\n",
    "from reportlab.platypus import SimpleDocTemplate, Paragraph\n",
    "from reportlab.lib.styles import getSampleStyleSheet\n",
    "\n",
    "df = pd.read_csv('cadastro_ies.CSV', encoding='ISO-8859-1', sep=';', low_memory=False)\n",
    "\n",
    "# 2. Criar um dataframe\n",
    "dataframe = pd.DataFrame(df)\n",
    "\n",
    "# 3. Fazer alguns gráficos\n",
    "plt.figure(figsize=(10, 6))\n",
    "plt.bar(df['Categoria'], df['Valor'])\n",
    "plt.xlabel('Categoria')\n",
    "plt.ylabel('Valor')\n",
    "plt.title('Gráfico de Valores por Categoria')\n",
    "plt.savefig('grafico.png')\n",
    "\n",
    "# 4. Gerar um relatório em PDF\n",
    "doc = SimpleDocTemplate(\"relatorio.pdf\", pagesize=letter)\n",
    "styles = getSampleStyleSheet()\n",
    "story = []\n",
    "\n",
    "# Título do relatório\n",
    "title = styles['Title']\n",
    "story.append(Paragraph(\"Relatório de Análise de Dados\", title))\n",
    "\n",
    "# Gráfico\n",
    "story.append(Paragraph(\"Gráfico de Valores por Categoria\", styles['Heading2']))\n",
    "story.append(Paragraph(\"<img src='grafico.png' width='500' height='300'/>\", styles['Normal']))\n",
    "\n",
    "# Conteúdo da análise (substitua pelo seu conteúdo real)\n",
    "analise = \"Neste relatório, realizamos uma análise dos dados obtidos do Kaggle. Os dados foram processados e transformados em um dataframe, e em seguida, um gráfico de valores por categoria foi gerado para visualizar a distribuição dos dados. Com base na análise do gráfico, podemos observar...\"\n",
    "story.append(Paragraph(analise, styles['Normal']))\n",
    "\n",
    "# Adicionar o conteúdo ao PDF\n",
    "doc.build(story)\n"
   ]
  }
 ],
 "metadata": {
  "kernelspec": {
   "display_name": "Python 3",
   "language": "python",
   "name": "python3"
  },
  "language_info": {
   "codemirror_mode": {
    "name": "ipython",
    "version": 3
   },
   "file_extension": ".py",
   "mimetype": "text/x-python",
   "name": "python",
   "nbconvert_exporter": "python",
   "pygments_lexer": "ipython3",
   "version": "3.11.4"
  },
  "orig_nbformat": 4
 },
 "nbformat": 4,
 "nbformat_minor": 2
}
